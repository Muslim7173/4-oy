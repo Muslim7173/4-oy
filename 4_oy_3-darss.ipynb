{
 "cells": [
  {
   "cell_type": "code",
   "execution_count": 1,
   "id": "2d21a793",
   "metadata": {},
   "outputs": [],
   "source": [
    "import pandas as pd \n"
   ]
  },
  {
   "cell_type": "code",
   "execution_count": 2,
   "id": "b11033c9",
   "metadata": {},
   "outputs": [],
   "source": [
    "df=pd.read_csv('data.csv')"
   ]
  },
  {
   "cell_type": "code",
   "execution_count": 3,
   "id": "2b581e9c",
   "metadata": {},
   "outputs": [
    {
     "name": "stdout",
     "output_type": "stream",
     "text": [
      "<class 'pandas.core.frame.DataFrame'>\n",
      "RangeIndex: 569 entries, 0 to 568\n",
      "Data columns (total 33 columns):\n",
      " #   Column                   Non-Null Count  Dtype  \n",
      "---  ------                   --------------  -----  \n",
      " 0   id                       569 non-null    int64  \n",
      " 1   diagnosis                569 non-null    object \n",
      " 2   radius_mean              569 non-null    float64\n",
      " 3   texture_mean             569 non-null    float64\n",
      " 4   perimeter_mean           569 non-null    float64\n",
      " 5   area_mean                569 non-null    float64\n",
      " 6   smoothness_mean          569 non-null    float64\n",
      " 7   compactness_mean         569 non-null    float64\n",
      " 8   concavity_mean           569 non-null    float64\n",
      " 9   concave points_mean      569 non-null    float64\n",
      " 10  symmetry_mean            569 non-null    float64\n",
      " 11  fractal_dimension_mean   569 non-null    float64\n",
      " 12  radius_se                569 non-null    float64\n",
      " 13  texture_se               569 non-null    float64\n",
      " 14  perimeter_se             569 non-null    float64\n",
      " 15  area_se                  569 non-null    float64\n",
      " 16  smoothness_se            569 non-null    float64\n",
      " 17  compactness_se           569 non-null    float64\n",
      " 18  concavity_se             569 non-null    float64\n",
      " 19  concave points_se        569 non-null    float64\n",
      " 20  symmetry_se              569 non-null    float64\n",
      " 21  fractal_dimension_se     569 non-null    float64\n",
      " 22  radius_worst             569 non-null    float64\n",
      " 23  texture_worst            569 non-null    float64\n",
      " 24  perimeter_worst          569 non-null    float64\n",
      " 25  area_worst               569 non-null    float64\n",
      " 26  smoothness_worst         569 non-null    float64\n",
      " 27  compactness_worst        569 non-null    float64\n",
      " 28  concavity_worst          569 non-null    float64\n",
      " 29  concave points_worst     569 non-null    float64\n",
      " 30  symmetry_worst           569 non-null    float64\n",
      " 31  fractal_dimension_worst  569 non-null    float64\n",
      " 32  Unnamed: 32              0 non-null      float64\n",
      "dtypes: float64(31), int64(1), object(1)\n",
      "memory usage: 146.8+ KB\n"
     ]
    }
   ],
   "source": [
    "df.info()"
   ]
  },
  {
   "cell_type": "code",
   "execution_count": 4,
   "id": "eea3d582",
   "metadata": {},
   "outputs": [],
   "source": [
    "df.drop('Unnamed: 32', axis=1, inplace=True)\n"
   ]
  },
  {
   "cell_type": "code",
   "execution_count": 5,
   "id": "a4e57c89",
   "metadata": {},
   "outputs": [
    {
     "name": "stdout",
     "output_type": "stream",
     "text": [
      "<class 'pandas.core.frame.DataFrame'>\n",
      "RangeIndex: 569 entries, 0 to 568\n",
      "Data columns (total 32 columns):\n",
      " #   Column                   Non-Null Count  Dtype  \n",
      "---  ------                   --------------  -----  \n",
      " 0   id                       569 non-null    int64  \n",
      " 1   diagnosis                569 non-null    object \n",
      " 2   radius_mean              569 non-null    float64\n",
      " 3   texture_mean             569 non-null    float64\n",
      " 4   perimeter_mean           569 non-null    float64\n",
      " 5   area_mean                569 non-null    float64\n",
      " 6   smoothness_mean          569 non-null    float64\n",
      " 7   compactness_mean         569 non-null    float64\n",
      " 8   concavity_mean           569 non-null    float64\n",
      " 9   concave points_mean      569 non-null    float64\n",
      " 10  symmetry_mean            569 non-null    float64\n",
      " 11  fractal_dimension_mean   569 non-null    float64\n",
      " 12  radius_se                569 non-null    float64\n",
      " 13  texture_se               569 non-null    float64\n",
      " 14  perimeter_se             569 non-null    float64\n",
      " 15  area_se                  569 non-null    float64\n",
      " 16  smoothness_se            569 non-null    float64\n",
      " 17  compactness_se           569 non-null    float64\n",
      " 18  concavity_se             569 non-null    float64\n",
      " 19  concave points_se        569 non-null    float64\n",
      " 20  symmetry_se              569 non-null    float64\n",
      " 21  fractal_dimension_se     569 non-null    float64\n",
      " 22  radius_worst             569 non-null    float64\n",
      " 23  texture_worst            569 non-null    float64\n",
      " 24  perimeter_worst          569 non-null    float64\n",
      " 25  area_worst               569 non-null    float64\n",
      " 26  smoothness_worst         569 non-null    float64\n",
      " 27  compactness_worst        569 non-null    float64\n",
      " 28  concavity_worst          569 non-null    float64\n",
      " 29  concave points_worst     569 non-null    float64\n",
      " 30  symmetry_worst           569 non-null    float64\n",
      " 31  fractal_dimension_worst  569 non-null    float64\n",
      "dtypes: float64(30), int64(1), object(1)\n",
      "memory usage: 142.4+ KB\n"
     ]
    }
   ],
   "source": [
    "df.info()"
   ]
  },
  {
   "cell_type": "code",
   "execution_count": 8,
   "id": "a0866803",
   "metadata": {},
   "outputs": [],
   "source": [
    "class malumot:\n",
    "  def __init__(self,df):\n",
    "    self.df = df\n",
    "    \n",
    "  def missing_val(self):\n",
    "   return self.df.isnull().sum()\n",
    "  "
   ]
  },
  {
   "cell_type": "code",
   "execution_count": 12,
   "id": "cf6c0186",
   "metadata": {},
   "outputs": [
    {
     "data": {
      "text/plain": [
       "id                         0\n",
       "diagnosis                  0\n",
       "radius_mean                0\n",
       "texture_mean               0\n",
       "perimeter_mean             0\n",
       "area_mean                  0\n",
       "smoothness_mean            0\n",
       "compactness_mean           0\n",
       "concavity_mean             0\n",
       "concave points_mean        0\n",
       "symmetry_mean              0\n",
       "fractal_dimension_mean     0\n",
       "radius_se                  0\n",
       "texture_se                 0\n",
       "perimeter_se               0\n",
       "area_se                    0\n",
       "smoothness_se              0\n",
       "compactness_se             0\n",
       "concavity_se               0\n",
       "concave points_se          0\n",
       "symmetry_se                0\n",
       "fractal_dimension_se       0\n",
       "radius_worst               0\n",
       "texture_worst              0\n",
       "perimeter_worst            0\n",
       "area_worst                 0\n",
       "smoothness_worst           0\n",
       "compactness_worst          0\n",
       "concavity_worst            0\n",
       "concave points_worst       0\n",
       "symmetry_worst             0\n",
       "fractal_dimension_worst    0\n",
       "dtype: int64"
      ]
     },
     "execution_count": 12,
     "metadata": {},
     "output_type": "execute_result"
    }
   ],
   "source": [
    "info=malumot(df)\n",
    "info.missing_val()"
   ]
  },
  {
   "cell_type": "code",
   "execution_count": 18,
   "id": "64179468",
   "metadata": {},
   "outputs": [],
   "source": [
    "def missing_val(df):\n",
    "  for col in df.columns:\n",
    "    if df[col].dtype == 'object':\n",
    "      df[col].fillna(df[col].mode()[0], inplace=True)\n",
    "    else:\n",
    "      df[col].fillna(df[col].mean(), inplace=True)\n",
    "\n",
    "missing_val(df)"
   ]
  },
  {
   "cell_type": "code",
   "execution_count": null,
   "id": "ed720b0a",
   "metadata": {},
   "outputs": [],
   "source": [
    "#missing valularni toldirish"
   ]
  },
  {
   "cell_type": "code",
   "execution_count": 22,
   "id": "c32b8437",
   "metadata": {},
   "outputs": [],
   "source": [
    "class malumot:\n",
    "  def __init__(self,df):\n",
    "    self.df = df\n",
    "    \n",
    "  def missing_val(self):\n",
    "   return self.df.isnull().sum()\n",
    "  \n",
    "  def filling_missval(self):\n",
    "    for col in self.df.columns:\n",
    "        if self.df[col].dtype == 'object':\n",
    "         self.df[col].fillna(self.df[col].mode()[0], inplace=True)\n",
    "        else:\n",
    "         self.df[col].fillna(self.df[col].mean(), inplace=True)  "
   ]
  },
  {
   "cell_type": "code",
   "execution_count": 29,
   "id": "2fd9db1f",
   "metadata": {},
   "outputs": [
    {
     "name": "stdout",
     "output_type": "stream",
     "text": [
      "None\n"
     ]
    }
   ],
   "source": [
    "info=malumot(df)\n",
    "info.filling_missval()\n",
    "print(info.filling_missval())"
   ]
  },
  {
   "cell_type": "code",
   "execution_count": 36,
   "id": "e8e78ebe",
   "metadata": {},
   "outputs": [],
   "source": [
    "from sklearn.preprocessing import LabelEncoder\n",
    "\n",
    "class SmartEncoder:\n",
    "    def __init__(self, df):\n",
    "        self.df = df.copy()\n",
    "        self.label_encoders = {}\n",
    "\n",
    "    def encode(self, threshold=5):\n",
    "      \n",
    "        cat_cols = self.df.select_dtypes(include=['object', 'category']).columns\n",
    "\n",
    "        for col in cat_cols:\n",
    "            unique_vals = self.df[col].nunique()\n",
    "            if unique_vals <= threshold:\n",
    "                # One-hot encode\n",
    "                self.df = pd.get_dummies(self.df, columns=[col], prefix=col, drop_first=False)\n",
    "            else:\n",
    "                # Label encode\n",
    "                le = LabelEncoder()\n",
    "                self.df[col] = le.fit_transform(self.df[col].astype(str))\n",
    "                self.label_encoders[col] = le\n",
    "\n",
    "    def get_encoded_df(self):\n",
    "        return self.df"
   ]
  },
  {
   "cell_type": "code",
   "execution_count": 38,
   "id": "c4759d0a",
   "metadata": {},
   "outputs": [
    {
     "name": "stdout",
     "output_type": "stream",
     "text": [
      "           id  radius_mean  texture_mean  perimeter_mean  area_mean  \\\n",
      "0      842302        17.99         10.38          122.80     1001.0   \n",
      "1      842517        20.57         17.77          132.90     1326.0   \n",
      "2    84300903        19.69         21.25          130.00     1203.0   \n",
      "3    84348301        11.42         20.38           77.58      386.1   \n",
      "4    84358402        20.29         14.34          135.10     1297.0   \n",
      "..        ...          ...           ...             ...        ...   \n",
      "564    926424        21.56         22.39          142.00     1479.0   \n",
      "565    926682        20.13         28.25          131.20     1261.0   \n",
      "566    926954        16.60         28.08          108.30      858.1   \n",
      "567    927241        20.60         29.33          140.10     1265.0   \n",
      "568     92751         7.76         24.54           47.92      181.0   \n",
      "\n",
      "     smoothness_mean  compactness_mean  concavity_mean  concave points_mean  \\\n",
      "0            0.11840           0.27760         0.30010              0.14710   \n",
      "1            0.08474           0.07864         0.08690              0.07017   \n",
      "2            0.10960           0.15990         0.19740              0.12790   \n",
      "3            0.14250           0.28390         0.24140              0.10520   \n",
      "4            0.10030           0.13280         0.19800              0.10430   \n",
      "..               ...               ...             ...                  ...   \n",
      "564          0.11100           0.11590         0.24390              0.13890   \n",
      "565          0.09780           0.10340         0.14400              0.09791   \n",
      "566          0.08455           0.10230         0.09251              0.05302   \n",
      "567          0.11780           0.27700         0.35140              0.15200   \n",
      "568          0.05263           0.04362         0.00000              0.00000   \n",
      "\n",
      "     symmetry_mean  ...  perimeter_worst  area_worst  smoothness_worst  \\\n",
      "0           0.2419  ...           184.60      2019.0           0.16220   \n",
      "1           0.1812  ...           158.80      1956.0           0.12380   \n",
      "2           0.2069  ...           152.50      1709.0           0.14440   \n",
      "3           0.2597  ...            98.87       567.7           0.20980   \n",
      "4           0.1809  ...           152.20      1575.0           0.13740   \n",
      "..             ...  ...              ...         ...               ...   \n",
      "564         0.1726  ...           166.10      2027.0           0.14100   \n",
      "565         0.1752  ...           155.00      1731.0           0.11660   \n",
      "566         0.1590  ...           126.70      1124.0           0.11390   \n",
      "567         0.2397  ...           184.60      1821.0           0.16500   \n",
      "568         0.1587  ...            59.16       268.6           0.08996   \n",
      "\n",
      "     compactness_worst  concavity_worst  concave points_worst  symmetry_worst  \\\n",
      "0              0.66560           0.7119                0.2654          0.4601   \n",
      "1              0.18660           0.2416                0.1860          0.2750   \n",
      "2              0.42450           0.4504                0.2430          0.3613   \n",
      "3              0.86630           0.6869                0.2575          0.6638   \n",
      "4              0.20500           0.4000                0.1625          0.2364   \n",
      "..                 ...              ...                   ...             ...   \n",
      "564            0.21130           0.4107                0.2216          0.2060   \n",
      "565            0.19220           0.3215                0.1628          0.2572   \n",
      "566            0.30940           0.3403                0.1418          0.2218   \n",
      "567            0.86810           0.9387                0.2650          0.4087   \n",
      "568            0.06444           0.0000                0.0000          0.2871   \n",
      "\n",
      "     fractal_dimension_worst  diagnosis_B  diagnosis_M  \n",
      "0                    0.11890        False         True  \n",
      "1                    0.08902        False         True  \n",
      "2                    0.08758        False         True  \n",
      "3                    0.17300        False         True  \n",
      "4                    0.07678        False         True  \n",
      "..                       ...          ...          ...  \n",
      "564                  0.07115        False         True  \n",
      "565                  0.06637        False         True  \n",
      "566                  0.07820        False         True  \n",
      "567                  0.12400        False         True  \n",
      "568                  0.07039         True        False  \n",
      "\n",
      "[569 rows x 33 columns]\n"
     ]
    }
   ],
   "source": [
    "encoder=SmartEncoder(df)\n",
    "encoder.encode()\n",
    "print(encoder.get_encoded_df())"
   ]
  },
  {
   "cell_type": "code",
   "execution_count": null,
   "id": "f51ca080",
   "metadata": {},
   "outputs": [],
   "source": []
  },
  {
   "cell_type": "code",
   "execution_count": null,
   "id": "ece78c96",
   "metadata": {},
   "outputs": [],
   "source": [
    "create a class find kopaytma 2 ta elemnti"
   ]
  },
  {
   "cell_type": "code",
   "execution_count": 5,
   "id": "a592a715",
   "metadata": {},
   "outputs": [],
   "source": [
    "class kopaytma:\n",
    "    def __init__(self,a,b):\n",
    "        self.a=a\n",
    "        self.b=b\n",
    "    def kop(self):\n",
    "        return self.a * self.b"
   ]
  },
  {
   "cell_type": "code",
   "execution_count": 6,
   "id": "d7173826",
   "metadata": {},
   "outputs": [
    {
     "name": "stdout",
     "output_type": "stream",
     "text": [
      "15\n"
     ]
    }
   ],
   "source": [
    "natija=kopaytma(3,5)\n",
    "print(natija.kop())"
   ]
  },
  {
   "cell_type": "code",
   "execution_count": null,
   "id": "634bd613",
   "metadata": {},
   "outputs": [
    {
     "name": "stdout",
     "output_type": "stream",
     "text": [
      "11\n"
     ]
    }
   ],
   "source": [
    "# Find max between numbers\n",
    "numbers = [9, 7, 11]\n",
    "\n",
    "def find_max(numbers):\n",
    "    return max(numbers)  \n",
    "\n",
    "print(find_max(numbers)) \n"
   ]
  },
  {
   "cell_type": "code",
   "execution_count": 3,
   "id": "3b08bfb7",
   "metadata": {},
   "outputs": [
    {
     "name": "stdout",
     "output_type": "stream",
     "text": [
      "23 toq\n",
      "14 juft\n",
      "97 toq\n",
      "90 juft\n",
      "98 juft\n"
     ]
    }
   ],
   "source": [
    "#check even or odd\n",
    "\n",
    "raqamlar = [23,14,97,90,98]\n",
    "\n",
    "def check_even_odd(numbers):\n",
    "    for number in numbers:\n",
    "        if number%2 !=0:\n",
    "            print(f\"{number} toq\")\n",
    "        else:\n",
    "            print(f\"{number} juft\")\n",
    "\n",
    "check_even_odd(raqamlar)\n"
   ]
  },
  {
   "cell_type": "code",
   "execution_count": 12,
   "id": "9425d875",
   "metadata": {},
   "outputs": [
    {
     "name": "stdout",
     "output_type": "stream",
     "text": [
      "Hello my name is Muslimbek, va yoshim 26 da\n"
     ]
    }
   ],
   "source": [
    "class salomlash:\n",
    "    def __init__(self, yoshi, ismi,):\n",
    "        self.yoshi=yoshi\n",
    "        self.ismi=ismi\n",
    "        \n",
    "    def assalom(self):\n",
    "        print(f\"Hello my name is {self.ismi}, va yoshim {self.yoshi} da\")\n",
    "\n",
    "    \n",
    "    M = salomlash(26,\"Muslimbek\")\n",
    "    M.assalom()"
   ]
  },
  {
   "cell_type": "code",
   "execution_count": 16,
   "id": "859d33df",
   "metadata": {},
   "outputs": [
    {
     "name": "stdout",
     "output_type": "stream",
     "text": [
      "Hi, my name is jalol and my grade is 4.3\n"
     ]
    }
   ],
   "source": [
    "list=[]\n",
    "class Student:\n",
    "    def __init__(self,name, grades):\n",
    "        self.name=name\n",
    "        self.grade=grades\n",
    "\n",
    "    def assalom(self):\n",
    "        print(f\"Hi, my name is {self.name} and my grade is {self.grade}\")\n",
    "    \n",
    "info=Student(\"jalol\", 4.3)\n",
    "info.assalom()\n"
   ]
  },
  {
   "cell_type": "code",
   "execution_count": 30,
   "id": "f8c42594",
   "metadata": {},
   "outputs": [
    {
     "name": "stdout",
     "output_type": "stream",
     "text": [
      "24\n"
     ]
    }
   ],
   "source": [
    "#create a class to find square of rectangle with width and height\n",
    "\n",
    "class Rectangle:\n",
    "    def __init__(self, width, height):\n",
    "        self.width=width\n",
    "        self.height=height\n",
    "    \n",
    "    def square(self):\n",
    "        return self.width*self.height\n",
    "    \n",
    "tortburchak=Rectangle(4,6)\n",
    "print(tortburchak.square())\n"
   ]
  },
  {
   "cell_type": "code",
   "execution_count": null,
   "id": "3a6a261d",
   "metadata": {},
   "outputs": [],
   "source": [
    "#create s Class bank account that adds deposit withdraws and shows current amount"
   ]
  },
  {
   "cell_type": "code",
   "execution_count": 34,
   "id": "a414f61a",
   "metadata": {},
   "outputs": [],
   "source": [
    "class BankAccount:\n",
    "    def __ini__(self,amount, balance):\n",
    "        self.balance = balance \n",
    "        self.amount=amount\n",
    "\n",
    "    def add(self,balance):\n",
    "        self.balance.append(balance)\n",
    "\n",
    "    def minus(self, amount, balance):\n",
    "        if balance-amount<0:\n",
    "            return f\"insufficient amount\"\n",
    "        else:\n",
    "            print(f\"remaining amount {balance-amount}\")\n",
    "\n",
    "        \n",
    "        "
   ]
  },
  {
   "cell_type": "code",
   "execution_count": null,
   "id": "d764f5aa",
   "metadata": {},
   "outputs": [],
   "source": []
  }
 ],
 "metadata": {
  "kernelspec": {
   "display_name": "Python 3",
   "language": "python",
   "name": "python3"
  },
  "language_info": {
   "codemirror_mode": {
    "name": "ipython",
    "version": 3
   },
   "file_extension": ".py",
   "mimetype": "text/x-python",
   "name": "python",
   "nbconvert_exporter": "python",
   "pygments_lexer": "ipython3",
   "version": "3.11.0"
  }
 },
 "nbformat": 4,
 "nbformat_minor": 5
}
